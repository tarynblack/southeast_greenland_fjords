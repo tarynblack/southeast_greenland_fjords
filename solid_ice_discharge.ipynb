{
 "cells": [
  {
   "cell_type": "markdown",
   "metadata": {},
   "source": [
    "# Solid ice discharge in southeast Greenland fjords\n",
    "\n",
    "## Purpose\n",
    "This notebook generates figures and spreadsheets of solid ice discharge for each fjord in the study. The plots show the discharge time series as well as the mean annual, mean hydrological year, and mean seasonal discharge for each fjord. The spreadsheets contain cumulative and per-fjord statistics about solid ice discharge.\n",
    "\n",
    "## Requirements\n",
    "This notebook analyzes data from Mankoff _et al._ (2020) which can be downloaded here: https://doi.org/10.22008/promice/data/ice_discharge/d/v02. Wherever you locate those files, indicate the path in the user parameters below."
   ]
  },
  {
   "cell_type": "code",
   "execution_count": null,
   "metadata": {},
   "outputs": [],
   "source": [
    "import pandas as pd\n",
    "import matplotlib.pyplot as plt\n",
    "import numpy as np\n",
    "import pathlib"
   ]
  },
  {
   "cell_type": "code",
   "execution_count": null,
   "metadata": {},
   "outputs": [],
   "source": [
    "# Set user parameters\n",
    "startdate = '2015-01-01'\n",
    "enddate = '2019-12-31'\n",
    "threshold = 0.5 # coverage threshold for solid ice discharge, used by Mankoff\n",
    "solid_ice_dir = '../IceDischarge_Mankoff/' # path to files downloaded from https://doi.org/10.22008/promice/data/ice_discharge/d/v02"
   ]
  },
  {
   "cell_type": "code",
   "execution_count": null,
   "metadata": {},
   "outputs": [],
   "source": [
    "# Read in file that relates Moon pointID, Joughin glacierID, and Mankoff gate ID\n",
    "id_map = pd.read_csv('./relate_pointID_glacierID.txt', delimiter=' ')\n",
    "id_map.set_index('pointID', inplace=True)\n",
    "id_map.head()"
   ]
  },
  {
   "cell_type": "code",
   "execution_count": null,
   "metadata": {},
   "outputs": [],
   "source": [
    "# Read in file that relates glacier ID to fjord number\n",
    "# glacier_fjord_db = pd.read_excel('../Databases/Glacier database.xlsx')\n",
    "glacier_fjord_db = pd.read_csv('./glaciers_fjords.txt', delimiter=',')\n",
    "glacier_fjord_db.head()"
   ]
  },
  {
   "cell_type": "code",
   "execution_count": null,
   "metadata": {},
   "outputs": [],
   "source": [
    "# Read in solid ice discharge time series at each gate\n",
    "gate_discharge = pd.read_csv(f'{solid_ice_dir}/gate_D.csv')\n",
    "gate_discharge.set_index('Date', inplace=True)\n",
    "gate_discharge.head()"
   ]
  },
  {
   "cell_type": "code",
   "execution_count": null,
   "metadata": {},
   "outputs": [],
   "source": [
    "# Read in error in solid ice discharge time series at each gate\n",
    "gate_error = pd.read_csv(f'{solid_ice_dir}/gate_err.csv')\n",
    "gate_error.set_index('Date', inplace=True)\n",
    "gate_error.head()"
   ]
  },
  {
   "cell_type": "code",
   "execution_count": null,
   "metadata": {},
   "outputs": [],
   "source": [
    "# Read in coverage in solid ice discharge time series at each gate\n",
    "gate_coverage = pd.read_csv(f'{solid_ice_dir}/gate_coverage.csv')\n",
    "gate_coverage.set_index('Date', inplace=True)\n",
    "gate_coverage.head()"
   ]
  },
  {
   "cell_type": "code",
   "execution_count": null,
   "metadata": {},
   "outputs": [],
   "source": [
    "# Define functions\n",
    "\n",
    "def getMankoffID(pointID, id_map):\n",
    "    \"\"\"Find Mankoff gate ID associated with Moon glacier point ID\"\"\"\n",
    "    mankoffID = id_map.loc[pointID].mankoffID\n",
    "    if mankoffID is not np.nan:\n",
    "        mankoffID = mankoffID.split(',')\n",
    "    return mankoffID\n",
    "\n",
    "def timeSeries(mankoffID, gate_discharge, gate_error, gate_coverage):\n",
    "    \"\"\"Create single dataframe with time series of discharge, error, and coverage at a Mankoff gate\"\"\"\n",
    "    discharge = gate_discharge[mankoffID]\n",
    "    error = gate_error[mankoffID]\n",
    "    coverage = gate_coverage[mankoffID]\n",
    "    data = pd.DataFrame(index=pd.to_datetime(discharge.index), data={'discharge': discharge.values.flatten(), 'error': error.values.flatten(), 'coverage': coverage.values.flatten()})\n",
    "    return data\n",
    "\n",
    "def filterDates(data, startdate, enddate):\n",
    "    \"\"\"Filter data to samples between start and end dates (inclusive)\"\"\"\n",
    "    data = data[data.index >= startdate]\n",
    "    data = data[data.index <= enddate]\n",
    "    return data\n",
    "\n",
    "def filterCoverage(data, threshold):\n",
    "    \"\"\"Filter data to points at or above a given threshold coverage\"\"\"\n",
    "    data = data[data.coverage >= threshold]\n",
    "    return data\n",
    "\n",
    "def rmse(error_data):\n",
    "    \"\"\"Calculate root mean squared error (RMSE) when calculating mean of data\"\"\"\n",
    "    rmse = sum([error**2 for error in error_data])**0.5 / len(error_data)**0.5\n",
    "    return rmse\n",
    "\n",
    "def season_aggregate(dates):\n",
    "    \"\"\"Output seasons from list of dates. December is rolled over to following year.\"\"\"\n",
    "    def get_season(date):\n",
    "        if date.month in [1, 2]:\n",
    "            season = '{}-01'.format(date.year)\n",
    "        elif date.month in [3, 4, 5]:\n",
    "            season = '{}-04'.format(date.year)\n",
    "        elif date.month in [6, 7, 8]:\n",
    "            season = '{}-07'.format(date.year)\n",
    "        elif date.month in [9, 10, 11]:\n",
    "            season = '{}-10'.format(date.year)\n",
    "        elif date.month in [12]:\n",
    "            season = '{}-01'.format(date.year+1)\n",
    "        return season\n",
    "    seasons = pd.to_datetime([get_season(date) for date in dates], format='%Y-%m')\n",
    "    return seasons\n",
    "\n",
    "def hydroyear_aggregate(dates):\n",
    "    \"\"\"Output hydrological year (September start) from list of dates\"\"\"\n",
    "    def get_hydroyear(date):\n",
    "        if date.month >= 9:\n",
    "            hydroyear = '{}-03'.format(date.year+1)\n",
    "        elif date.month < 9:\n",
    "            hydroyear = '{}-03'.format(date.year)\n",
    "        return hydroyear\n",
    "    hydroyears = pd.to_datetime([get_hydroyear(date) for date in dates], format='%Y-%m')\n",
    "    return hydroyears\n",
    "\n",
    "def getDischargeData(pointID, id_map, gate_discharge, gate_error, gate_coverage, startdate, enddate, threshold):\n",
    "    \"\"\"Get gate discharge, error, and coverage for a point ID and filter by dates and coverage. Returns pandas dataframe or nan.\"\"\"\n",
    "    mankoff = getMankoffID(pointID, id_map)\n",
    "    if mankoff is not np.nan:\n",
    "        if len(mankoff) == 1:\n",
    "            data = timeSeries(mankoff, gate_discharge, gate_error, gate_coverage)\n",
    "            data = filterDates(data, startdate, enddate)\n",
    "            data = filterCoverage(data, threshold)\n",
    "        else:\n",
    "            gates_data = [timeSeries(id, gate_discharge, gate_error, gate_coverage) for id in mankoff]\n",
    "            gates_data = [filterDates(df, startdate, enddate) for df in gates_data]\n",
    "            gates_data = [filterCoverage(df, threshold) for df in gates_data]\n",
    "            combined_discharge = sum([df.discharge for df in gates_data])\n",
    "            combined_error = sum([df.error**2 for df in gates_data])**0.5\n",
    "            combined_coverage = sum([df.coverage for df in gates_data])/len(gates_data)\n",
    "            data = pd.DataFrame(index=combined_discharge.index, data={'discharge': combined_discharge, 'error': combined_error, 'coverage': combined_coverage})\n",
    "            data = data.dropna()\n",
    "    else:\n",
    "        print('No discharge data associated with glacier point {}'.format(pointID))\n",
    "        data = np.nan\n",
    "    return data\n",
    "\n",
    "def meanAnnualDischarge(pointID, id_map, gate_discharge, gate_error, gate_coverage, startdate, enddate, threshold):\n",
    "    \"\"\"Calculate mean annual discharge from full time series of data\"\"\"\n",
    "    data = getDischargeData(pointID, id_map, gate_discharge, gate_error, gate_coverage, startdate, enddate, threshold)\n",
    "    if data is not np.nan:\n",
    "        mean_annual_data = data.groupby(data.index.year).agg({'discharge': 'mean', 'error': rmse, 'coverage': 'mean'})\n",
    "        mean_annual_data.index = pd.to_datetime(['{}-07'.format(y) for y in mean_annual_data.index], format='%Y-%m')\n",
    "    else: mean_annual_data = np.nan\n",
    "    return mean_annual_data\n",
    "\n",
    "def meanHydroAnnualDischarge(pointID, id_map, gate_discharge, gate_error, gate_coverage, startdate, enddate, threshold):\n",
    "    \"\"\"Calculate mean hydrological year discharge from full time series of data (hydroyear starts September)\"\"\"\n",
    "    data = getDischargeData(pointID, id_map, gate_discharge, gate_error, gate_coverage, startdate, enddate, threshold)\n",
    "    if data is not np.nan:\n",
    "        data['hydroyear'] = hydroyear_aggregate(data.index)\n",
    "        mean_hydroyear_data = data.groupby('hydroyear').agg({'discharge': 'mean', 'error': rmse, 'coverage': 'mean'})\n",
    "    else: mean_hydroyear_data = np.nan\n",
    "    return mean_hydroyear_data\n",
    "\n",
    "def meanSeasonalDischarge(pointID, id_map, gate_discharge, gate_error, gate_coverage, startdate, enddate, threshold):\n",
    "    \"\"\"Calculate mean seasonal discharge from full time series of data\"\"\"\n",
    "    data = getDischargeData(pointID, id_map, gate_discharge, gate_error, gate_coverage, startdate, enddate, threshold)\n",
    "    if data is not np.nan:\n",
    "        data['season'] = season_aggregate(data.index)\n",
    "        mean_seasonal_data = data.groupby('season').agg({'discharge': 'mean', 'error': rmse, 'coverage': 'mean'})\n",
    "    else: mean_seasonal_data = np.nan\n",
    "    return mean_seasonal_data\n",
    "\n",
    "def getFjordNumber(pointID):\n",
    "    \"\"\"Get fjord number associated with a given glacier point ID\"\"\"\n",
    "    fjord_number = int(glacier_fjord_db.where(glacier_fjord_db['GlacierID'] == pointID)['FjordID'].dropna().values)\n",
    "    return fjord_number\n",
    "\n",
    "def plotGlacierDischarge(ax, data, pointID):\n",
    "    \"\"\"Plot solid ice discharge time series for a glacier (given by point ID)\"\"\"\n",
    "    if data is not np.nan:\n",
    "        ax.plot(data.index, data.discharge, '.-')\n",
    "        ax.fill_between(data.index, data.discharge + data.error, data.discharge - data.error, alpha=0.2, label='error')\n",
    "        ax.set_xlabel('Time')\n",
    "        ax.set_ylabel('Discharge [Gt yr$^{-1}$]')\n",
    "        ax.set_title(f'Glacier #{pointID} discharge\\n(Fjord #{getFjordNumber(pointID)})')\n",
    "        ax.grid('on')\n"
   ]
  },
  {
   "cell_type": "markdown",
   "metadata": {},
   "source": [
    "## Complete discharge time series for individual glaciers"
   ]
  },
  {
   "cell_type": "code",
   "execution_count": null,
   "metadata": {},
   "outputs": [],
   "source": [
    "# Plot individual glacier\n",
    "pointID = 147\n",
    "data = getDischargeData(pointID, id_map, gate_discharge, gate_error, gate_coverage, startdate=startdate, enddate=enddate, threshold=threshold)\n",
    "if data is not np.nan:\n",
    "    fig, ax = plt.subplots()\n",
    "    plotGlacierDischarge(ax, data, pointID)\n",
    "    ax.set_xticks(['2015-01-01', '2016-01-01', '2017-01-01', '2018-01-01', '2019-01-01', '2020-01-01'])\n",
    "    ax.set_xticklabels(['2015', '2016', '2017', '2018', '2019', '2020'])\n",
    "    plt.show()"
   ]
  },
  {
   "cell_type": "markdown",
   "metadata": {},
   "source": [
    "## Mean annual discharge time series for individual glaciers"
   ]
  },
  {
   "cell_type": "code",
   "execution_count": null,
   "metadata": {},
   "outputs": [],
   "source": [
    "pointID = 147\n",
    "mean_annual_data = meanAnnualDischarge(pointID, id_map, gate_discharge, gate_error, gate_coverage, startdate, enddate, threshold)\n",
    "\n",
    "if mean_annual_data is not np.nan:\n",
    "    fig, ax = plt.subplots()\n",
    "    plotGlacierDischarge(ax, mean_annual_data, pointID)\n",
    "    ax.set_xticks(['2015-01-01', '2016-01-01', '2017-01-01', '2018-01-01', '2019-01-01'])\n",
    "    ax.set_xticklabels(['2015', '2016', '2017', '2018', '2019'])\n",
    "    ax.set_title('Glacier #{} mean annual discharge'.format(pointID))\n",
    "    plt.show()"
   ]
  },
  {
   "cell_type": "markdown",
   "metadata": {},
   "source": [
    "## Mean hydrological year discharge time series for individual glaciers"
   ]
  },
  {
   "cell_type": "code",
   "execution_count": null,
   "metadata": {},
   "outputs": [],
   "source": [
    "pointID = 147\n",
    "mean_hydroyear_data = meanHydroAnnualDischarge(pointID, id_map, gate_discharge, gate_error, gate_coverage, startdate, enddate, threshold)\n",
    "if mean_hydroyear_data is not np.nan:\n",
    "    fig, ax = plt.subplots()\n",
    "    plotGlacierDischarge(ax, mean_hydroyear_data, pointID)\n",
    "    ax.set_xticks(['2015-01-01', '2016-01-01', '2017-01-01', '2018-01-01', '2019-01-01', '2020-01-01'])\n",
    "    ax.set_xticklabels(['2015', '2016', '2017', '2018', '2019', '2020'])\n",
    "    ax.set_title('Glacier #{} mean hydrological year discharge'.format(pointID))\n",
    "    plt.show()"
   ]
  },
  {
   "cell_type": "markdown",
   "metadata": {},
   "source": [
    "## Mean seasonal discharge time series for individual glaciers"
   ]
  },
  {
   "cell_type": "code",
   "execution_count": null,
   "metadata": {},
   "outputs": [],
   "source": [
    "pointID = 147\n",
    "mean_seasonal_data = meanSeasonalDischarge(pointID, id_map, gate_discharge, gate_error, gate_coverage, startdate, enddate, threshold)\n",
    "if mean_seasonal_data is not np.nan:\n",
    "    fig, ax = plt.subplots()\n",
    "    plotGlacierDischarge(ax, mean_seasonal_data, pointID)\n",
    "    ax.set_xticks(['2015-01-01', '2016-01-01', '2017-01-01', '2018-01-01', '2019-01-01', '2020-01-01'])\n",
    "    ax.set_xticklabels(['2015', '2016', '2017', '2018', '2019', '2020'])\n",
    "    ax.set_title('Glacier #{} mean seasonal discharge'.format(pointID))\n",
    "    plt.show()"
   ]
  },
  {
   "cell_type": "markdown",
   "metadata": {},
   "source": [
    "## Combine all plots"
   ]
  },
  {
   "cell_type": "code",
   "execution_count": null,
   "metadata": {},
   "outputs": [],
   "source": [
    "pointID = 175\n",
    "data = getDischargeData(pointID, id_map, gate_discharge, gate_error, gate_coverage, startdate, enddate, threshold)\n",
    "mean_annual_data = meanAnnualDischarge(pointID, id_map, gate_discharge, gate_error, gate_coverage, startdate, enddate, threshold)\n",
    "mean_hydroyear_data = meanHydroAnnualDischarge(pointID, id_map, gate_discharge, gate_error, gate_coverage, startdate, enddate, threshold)\n",
    "mean_seasonal_data = meanSeasonalDischarge(pointID, id_map, gate_discharge, gate_error, gate_coverage, startdate, enddate, threshold)\n",
    "\n",
    "if data is not np.nan:\n",
    "    fig, ax = plt.subplots()\n",
    "    plotGlacierDischarge(ax, data, pointID)\n",
    "    mean_seasonal_data.discharge.plot(ax=ax, style='.-', alpha=0.8)\n",
    "    mean_annual_data.discharge.plot(ax=ax, style='.-', alpha=0.8)\n",
    "    mean_hydroyear_data.discharge.plot(ax=ax, style='.-', alpha=0.8)\n",
    "    ax.grid('on')\n",
    "    ax.legend(handles=ax.get_lines(), labels=['discharge', 'seasonal mean', 'annual mean', 'hydrological year mean'], loc='center left', bbox_to_anchor=(1, 0.5))\n",
    "    plt.show()"
   ]
  },
  {
   "cell_type": "markdown",
   "metadata": {},
   "source": [
    "# Save figures for all glaciers"
   ]
  },
  {
   "cell_type": "code",
   "execution_count": null,
   "metadata": {},
   "outputs": [],
   "source": [
    "pathlib.Path('../figures/solid_ice_discharge').mkdir(parents=True, exist_ok=True)\n",
    "for pointID in id_map.index:\n",
    "    data = getDischargeData(pointID, id_map, gate_discharge, gate_error, gate_coverage, startdate, enddate, threshold)\n",
    "\n",
    "    if data is not np.nan:\n",
    "        mean_annual_data = meanAnnualDischarge(pointID, id_map, gate_discharge, gate_error, gate_coverage, startdate, enddate, threshold)\n",
    "        mean_hydroyear_data = meanHydroAnnualDischarge(pointID, id_map, gate_discharge, gate_error, gate_coverage, startdate, enddate, threshold)\n",
    "        mean_seasonal_data = meanSeasonalDischarge(pointID, id_map, gate_discharge, gate_error, gate_coverage, startdate, enddate, threshold)\n",
    "\n",
    "        fig, ax = plt.subplots()\n",
    "        plotGlacierDischarge(ax, data, pointID)\n",
    "        mean_seasonal_data.discharge.plot(ax=ax, style='.-', alpha=0.8)\n",
    "        mean_annual_data.discharge.plot(ax=ax, style='.-', alpha=0.8)\n",
    "        mean_hydroyear_data.discharge.plot(ax=ax, style='.-', alpha=0.8)\n",
    "        ax.grid('on')\n",
    "        ax.legend(handles=ax.get_lines(), labels=['discharge', 'seasonal mean', 'annual mean', 'hydrological year mean'], loc='center left', bbox_to_anchor=(1, 0.5))\n",
    "\n",
    "        plt.savefig('../figures/solid_ice_discharge/g{:03}_discharge_fjord{}.png'.format(pointID, getFjordNumber(pointID)), bbox_inches='tight', dpi=300)\n",
    "        plt.close()"
   ]
  },
  {
   "cell_type": "markdown",
   "metadata": {},
   "source": [
    "# Calculate mean means"
   ]
  },
  {
   "cell_type": "code",
   "execution_count": null,
   "metadata": {},
   "outputs": [],
   "source": [
    "discharge_data = pd.DataFrame(index=id_map.index, columns=['Fjord number', 'Cumulative discharge (Gt)', 'Cumulative error (Gt)', 'Mean annual mean discharge (Gt/yr)', 'Mean annual mean discharge error (Gt/yr)', 'Mean hydroyear mean discharge (Gt/yr)', 'Mean hydroyear mean discharge error (Gt/yr)', 'Mean winter mean discharge (Gt/yr)', 'Mean winter mean discharge error (Gt/yr)', 'Mean spring mean discharge (Gt/yr)', 'Mean spring mean discharge error (Gt/yr)', 'Mean summer mean discharge (Gt/yr)', 'Mean summer mean discharge error (Gt/yr)', 'Mean autumn mean discharge (Gt/yr)', 'Mean autumn mean discharge error (Gt/yr)'])\n",
    "\n",
    "for pointID in id_map.index:\n",
    "\n",
    "    # Fjord number\n",
    "    fjord_number = getFjordNumber(pointID)\n",
    "    fjord_number = int(fjord_number)\n",
    "    \n",
    "    # Cumulative discharge\n",
    "    data = getDischargeData(pointID, id_map, gate_discharge, gate_error, gate_coverage, startdate=startdate, enddate=enddate, threshold=threshold)\n",
    "    if data is not np.nan:\n",
    "        cumulative_discharge = data.agg({'discharge': 'sum', 'error': 'sum'})\n",
    "    else:\n",
    "        cumulative_discharge = pd.DataFrame(index=[pointID], data={'discharge': np.nan, 'error': np.nan, 'coverage': np.nan})\n",
    "    \n",
    "    # Mean annual mean\n",
    "    mean_annual_data = meanAnnualDischarge(pointID, id_map, gate_discharge, gate_error, gate_coverage, startdate, enddate, threshold)\n",
    "    if mean_annual_data is not np.nan:\n",
    "        mean_annual_mean = mean_annual_data.agg({'discharge': 'mean', 'error': rmse, 'coverage': 'mean'})\n",
    "    else:\n",
    "        mean_annual_mean = pd.DataFrame(index=[pointID], data={'discharge': np.nan, 'error': np.nan, 'coverage': np.nan})\n",
    "\n",
    "    # Mean hydrological year mean\n",
    "    mean_hydroyear_data = meanHydroAnnualDischarge(pointID, id_map, gate_discharge, gate_error, gate_coverage, startdate, enddate, threshold)\n",
    "    if mean_hydroyear_data is not np.nan:\n",
    "        mean_hydroyear_mean = mean_hydroyear_data.agg({'discharge': 'mean', 'error': rmse, 'coverage': 'mean'})\n",
    "    else:\n",
    "        mean_hydroyear_mean = pd.DataFrame(index=[pointID], data={'discharge': np.nan, 'error': np.nan, 'coverage': np.nan})\n",
    "\n",
    "    # Mean seasonal means\n",
    "    mean_seasonal_data = meanSeasonalDischarge(pointID, id_map, gate_discharge, gate_error, gate_coverage, startdate, enddate, threshold)\n",
    "    if mean_seasonal_data is not np.nan:\n",
    "        mean_seasonal_mean = mean_seasonal_data.groupby(mean_seasonal_data.index.month).agg({'discharge': 'mean', 'error': rmse, 'coverage': 'mean'})\n",
    "    else:\n",
    "        mean_seasonal_mean = pd.DataFrame(index=[1, 4, 7, 10], columns=['discharge', 'error', 'coverage'])\n",
    "\n",
    "    # Compile dataframe of all means and errors\n",
    "    mean_data = pd.DataFrame(index=[pointID], data={\n",
    "        'Fjord number': fjord_number,\n",
    "        'Cumulative discharge': cumulative_discharge.discharge,\n",
    "        'Cumulative error': cumulative_discharge.error,\n",
    "        'Mean annual mean discharge': mean_annual_mean.discharge,\n",
    "        'Mean annual mean discharge error': mean_annual_mean.error,\n",
    "        'Mean hydroyear mean discharge': mean_hydroyear_mean.discharge,\n",
    "        'Mean hydroyear mean discharge error': mean_hydroyear_mean.error,\n",
    "        'Mean winter mean discharge': mean_seasonal_mean.loc[1].discharge,\n",
    "        'Mean winter mean discharge error': mean_seasonal_mean.loc[1].error,\n",
    "        'Mean spring mean discharge': mean_seasonal_mean.loc[4].discharge,\n",
    "        'Mean spring mean discharge error': mean_seasonal_mean.loc[4].error,\n",
    "        'Mean summer mean discharge': mean_seasonal_mean.loc[7].discharge,\n",
    "        'Mean summer mean discharge error': mean_seasonal_mean.loc[7].error,\n",
    "        'Mean autumn mean discharge': mean_seasonal_mean.loc[10].discharge,\n",
    "        'Mean autumn mean discharge error': mean_seasonal_mean.loc[10].error\n",
    "    })\n",
    "\n",
    "    # Input data into main dataframe\n",
    "    discharge_data.loc[pointID] = mean_data.values\n",
    "\n",
    "discharge_data['Fjord number'] = discharge_data['Fjord number'].astype('int')\n",
    "\n",
    "pathlib.Path('../databases').mkdir(parents=True, exist_ok=True)\n",
    "discharge_data.to_csv('../databases/solid_discharge.csv')"
   ]
  },
  {
   "cell_type": "code",
   "execution_count": null,
   "metadata": {},
   "outputs": [],
   "source": [
    "fjord_discharge = discharge_data.groupby('Fjord number')['Cumulative discharge (Gt)'].sum()\n",
    "pathlib.Path('../databases').mkdir(parents=True, exist_ok=True)\n",
    "fjord_discharge.to_csv('../databases/fjord_cumulative_solid_discharge.csv')\n",
    "fjord_discharge.head()"
   ]
  },
  {
   "cell_type": "markdown",
   "metadata": {},
   "source": [
    "## Get combined discharge for each fjord"
   ]
  },
  {
   "cell_type": "code",
   "execution_count": null,
   "metadata": {},
   "outputs": [],
   "source": [
    "f = 24\n",
    "glacier_id_list = glacier_fjord_db[glacier_fjord_db['FjordID'] == f]['GlacierID'].values\n",
    "print(f'Glaciers in fjord: {glacier_id_list}')\n",
    "if not np.isnan(glacier_id_list).all():\n",
    "    data = [getDischargeData(id, id_map, gate_discharge, gate_error, gate_coverage, startdate, enddate, threshold) for id in glacier_id_list]\n",
    "    combined_data = [x for x in data if isinstance(x, pd.DataFrame)]\n",
    "    if bool(combined_data): # if combined_data is not empty\n",
    "        combined_discharge = sum([df.discharge for df in combined_data])\n",
    "        combined_error = sum([df.error**2 for df in combined_data])**0.5\n",
    "        combined_coverage = sum([df.discharge for df in combined_data])/len(combined_data)\n",
    "        final_data = pd.DataFrame(index=combined_discharge.index, data={'discharge': combined_discharge, 'error': combined_error, 'coverage': combined_coverage})\n",
    "        final_data = final_data.dropna()\n",
    "\n",
    "        # fig, ax = plt.subplots()\n",
    "        # plotGlacierDischarge(ax, final_data, glacier_id_list[0])"
   ]
  },
  {
   "cell_type": "code",
   "execution_count": null,
   "metadata": {},
   "outputs": [],
   "source": [
    "fjord_list = sorted(glacier_fjord_db['FjordID'].unique())\n",
    "pathlib.Path('../databases/fjord_solid_ice_discharge').mkdir(parents=True, exist_ok=True)\n",
    "pathlib.Path('../figures/combined_fjord_solid_discharge').mkdir(parents=True, exist_ok=True)\n",
    "\n",
    "for f in fjord_list:\n",
    "    print(f'Fjord {f}:')\n",
    "    # get list of glacier ids in this fjord\n",
    "    glacier_id_list = glacier_fjord_db[glacier_fjord_db['FjordID'] == f]['GlacierID'].values\n",
    "    if np.isnan(glacier_id_list).all():\n",
    "        print(f'No glaciers associated with Fjord {f} in Glacier Database XLSX.')\n",
    "    elif not np.isnan(glacier_id_list).all():\n",
    "        print(f'Glaciers: {glacier_id_list}')\n",
    "        fig, ax = plt.subplots()\n",
    "        # get list of discharge data for each glacier in fjord and reduce to only glaciers with real data (DataFrame, not nan)        \n",
    "        combined_data = [getDischargeData(id, id_map, gate_discharge, gate_error, gate_coverage, startdate, enddate, threshold) for id in glacier_id_list]\n",
    "        combined_data = [x for x in combined_data if isinstance(x, pd.DataFrame)]\n",
    "        if bool(combined_data): # if combined_data is not empty after removing nan-data glaciers\n",
    "            # calculate combined discharge, error, and coverage\n",
    "            combined_discharge = sum([df.discharge for df in combined_data])\n",
    "            combined_error = sum([df.error**2 for df in combined_data])**0.5\n",
    "            combined_coverage = sum([df.coverage for df in combined_data])/len(combined_data)\n",
    "            # combine discharge, error, and coverage into new dataframe and drop nans\n",
    "            final_data = pd.DataFrame(index=combined_discharge.index, data={'discharge': combined_discharge, 'error': combined_error, 'coverage': combined_coverage})\n",
    "            final_data = final_data.dropna()\n",
    "            # plot final data\n",
    "            plotGlacierDischarge(ax, final_data, glacier_id_list[0])\n",
    "            # save final data to CSV\n",
    "            final_data.discharge.to_csv(f'../databases/fjord_solid_ice_discharge/fjord{f:02}_solid_ice_discharge.csv', header=['Discharge (Gt/yr)'], index=True)\n",
    "\n",
    "        # repeat for seasonal discharge data for each glacier in fjord\n",
    "        combined_mean_seasonal_data = [meanSeasonalDischarge(id, id_map, gate_discharge, gate_error, gate_coverage, startdate, enddate, threshold) for id in glacier_id_list]\n",
    "        combined_mean_seasonal_data = [x for x in combined_mean_seasonal_data if isinstance(x, pd.DataFrame)]\n",
    "        if bool(combined_mean_seasonal_data):\n",
    "            combined_seasonal_discharge = sum([df.discharge for df in combined_mean_seasonal_data])\n",
    "            combined_seasonal_error = sum([df.error**2 for df in combined_mean_seasonal_data])**0.5\n",
    "            combined_seasonal_coverage = sum([df.coverage for df in combined_mean_seasonal_data])/len(combined_mean_seasonal_data)\n",
    "            final_seasonal_data = pd.DataFrame(index=combined_seasonal_discharge.index, data={'discharge': combined_seasonal_discharge, 'error': combined_seasonal_error, 'coverage': combined_seasonal_coverage})\n",
    "            final_seasonal_data = final_seasonal_data.dropna()\n",
    "            final_seasonal_data.discharge.plot(ax=ax, style='.-', alpha=0.8)\n",
    "\n",
    "        if len(glacier_id_list) == 1:\n",
    "            glacier_str = '(glacier ' + str([int(x) for x in glacier_id_list]).strip('[]') + ')'\n",
    "        elif len(glacier_id_list) > 1:\n",
    "            glacier_str = '(glaciers ' + str([int(x) for x in glacier_id_list]).strip('[]') + ')'\n",
    "        ax.set_title(f'Fjord #{f} combined ice discharge\\n{glacier_str}')\n",
    "        ax.set_xlabel('Year')\n",
    "        ax.set_xticks(pd.to_datetime(['2015-01-01', '2016-01-01', '2017-01-01', '2018-01-01', '2019-01-01', '2020-01-01']))\n",
    "        ax.set_xticklabels(['2015', '2016', '2017', '2018', '2019', '2020'], rotation=0, horizontalalignment='center')\n",
    "        ax.grid('on')\n",
    "        ax.legend(handles=ax.get_lines(), labels=['discharge', 'seasonal mean', 'annual mean', 'hydrological year mean'], loc='center left', bbox_to_anchor=(1, 0.5))\n",
    "        plt.savefig(f'../figures/combined_fjord_solid_discharge/fjord{f:02}_combined_ice_discharge.png', bbox_inches='tight', dpi=300)\n",
    "        plt.close()"
   ]
  },
  {
   "cell_type": "code",
   "execution_count": null,
   "metadata": {},
   "outputs": [],
   "source": []
  }
 ],
 "metadata": {
  "interpreter": {
   "hash": "31f2aee4e71d21fbe5cf8b01ff0e069b9275f58929596ceb00d14d90e3e16cd6"
  },
  "kernelspec": {
   "display_name": "Python 3.8.10 64-bit",
   "name": "python3"
  },
  "language_info": {
   "codemirror_mode": {
    "name": "ipython",
    "version": 3
   },
   "file_extension": ".py",
   "mimetype": "text/x-python",
   "name": "python",
   "nbconvert_exporter": "python",
   "pygments_lexer": "ipython3",
   "version": "3.8.10"
  },
  "orig_nbformat": 4
 },
 "nbformat": 4,
 "nbformat_minor": 2
}
